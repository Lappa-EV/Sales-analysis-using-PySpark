{
  "cells": [
    {
      "cell_type": "code",
      "execution_count": 187,
      "metadata": {
        "id": "SaciOvVwuMJz"
      },
      "outputs": [],
      "source": [
        "from pyspark.sql import SparkSession\n",
        "from pyspark.sql import functions as F\n",
        "from pyspark.sql.types import StructType, StructField, StringType, DoubleType, IntegerType, DateType, BooleanType  # Import BooleanType\n",
        "\n",
        "# Создаем SparkSession\n",
        "spark = SparkSession.builder.appName(\"RetailStoreSalesAnalysis\").getOrCreate()"
      ]
    },
    {
      "cell_type": "markdown",
      "metadata": {
        "id": "uYSC0RG5sNtM"
      },
      "source": [
        "# 1. Загрузка и предварительная обработка данных\n",
        "1.1. Загрузка и вывод схемы"
      ]
    },
    {
      "cell_type": "code",
      "execution_count": 188,
      "metadata": {
        "id": "rGnQmCjQsf-i"
      },
      "outputs": [],
      "source": [
        "# Путь к файлу с данными\n",
        "file_path = \"/content/retail_store_sales.csv\"\n",
        "\n",
        "\n",
        "# df = spark.read.csv(file_path, header=True, inferSchema=True) # Вывод схемы по умолчанию"
      ]
    },
    {
      "cell_type": "markdown",
      "metadata": {
        "id": "LwALi72Brq71"
      },
      "source": [
        "1.3. Явное преобразование типов данных"
      ]
    },
    {
      "cell_type": "code",
      "execution_count": 189,
      "metadata": {
        "colab": {
          "base_uri": "https://localhost:8080/"
        },
        "id": "kftYlpR_0a0F",
        "outputId": "dcade2ef-3871-455a-cba5-a7ad4bde4b65"
      },
      "outputs": [
        {
          "name": "stdout",
          "output_type": "stream",
          "text": [
            "\n",
            "Схема DataFrame:\n",
            "root\n",
            " |-- Transaction ID: string (nullable = true)\n",
            " |-- Customer ID: string (nullable = true)\n",
            " |-- Category: string (nullable = true)\n",
            " |-- Item: string (nullable = true)\n",
            " |-- Price Per Unit: double (nullable = true)\n",
            " |-- Quantity: integer (nullable = true)\n",
            " |-- Total Spent: double (nullable = true)\n",
            " |-- Payment Method: string (nullable = true)\n",
            " |-- Location: string (nullable = true)\n",
            " |-- Transaction Date: date (nullable = true)\n",
            " |-- Discount Applied: boolean (nullable = true)\n",
            "\n",
            "\n",
            "Вывод первых 5 строк загруженного DataFrame:\n",
            "+--------------+-----------+-------------+------------+--------------+--------+-----------+--------------+--------+----------------+----------------+\n",
            "|Transaction ID|Customer ID|     Category|        Item|Price Per Unit|Quantity|Total Spent|Payment Method|Location|Transaction Date|Discount Applied|\n",
            "+--------------+-----------+-------------+------------+--------------+--------+-----------+--------------+--------+----------------+----------------+\n",
            "|   TXN_6867343|    CUST_09|   Patisserie| Item_10_PAT|          18.5|    NULL|      185.0|Digital Wallet|  Online|      2024-04-08|            true|\n",
            "|   TXN_3731986|    CUST_22|Milk Products|Item_17_MILK|          29.0|    NULL|      261.0|Digital Wallet|  Online|      2023-07-23|            true|\n",
            "|   TXN_9303719|    CUST_02|     Butchers| Item_12_BUT|          21.5|    NULL|       43.0|   Credit Card|  Online|      2022-10-05|           false|\n",
            "|   TXN_9458126|    CUST_06|    Beverages| Item_16_BEV|          27.5|    NULL|      247.5|   Credit Card|  Online|      2022-05-07|            NULL|\n",
            "|   TXN_4575373|    CUST_05|         Food| Item_6_FOOD|          12.5|    NULL|       87.5|Digital Wallet|  Online|      2022-10-02|           false|\n",
            "+--------------+-----------+-------------+------------+--------------+--------+-----------+--------------+--------+----------------+----------------+\n",
            "only showing top 5 rows\n",
            "\n"
          ]
        }
      ],
      "source": [
        "# Определяем схему\n",
        "custom_schema = StructType([\n",
        "    StructField(\"Transaction ID\", StringType(), False),\n",
        "    StructField(\"Customer ID\", StringType(), False),\n",
        "    StructField(\"Category\", StringType(), False),\n",
        "    StructField(\"Item\", StringType(), True),\n",
        "    StructField(\"Price Per Unit\", DoubleType(), True),\n",
        "    StructField(\"Quantity\", IntegerType(), True),\n",
        "    StructField(\"Total Spent\", DoubleType(), True),\n",
        "    StructField(\"Payment Method\", StringType(), True),\n",
        "    StructField(\"Location\", StringType(), True),\n",
        "    StructField(\"Transaction Date\", DateType(), False),\n",
        "    StructField(\"Discount Applied\", BooleanType(), True)\n",
        "])\n",
        "\n",
        "# Загрузка данных с заданной схемой\n",
        "df = spark.read.csv(file_path, header=True, schema=custom_schema, sep=\",\")\n",
        "\n",
        "print(\"\\nСхема DataFrame:\")\n",
        "df.printSchema()\n",
        "\n",
        "print(\"\\nВывод первых 5 строк загруженного DataFrame:\")\n",
        "df.show(5)"
      ]
    },
    {
      "cell_type": "markdown",
      "metadata": {
        "id": "0Z-mVFwCr5-s"
      },
      "source": [
        "1.2. Очистка названий столбцов (snake_case)"
      ]
    },
    {
      "cell_type": "code",
      "execution_count": 190,
      "metadata": {
        "colab": {
          "base_uri": "https://localhost:8080/"
        },
        "id": "PJ3CYDhE_CZ_",
        "outputId": "6fafb4b4-8592-4965-8f3c-89ff9c5dd8fa"
      },
      "outputs": [
        {
          "name": "stdout",
          "output_type": "stream",
          "text": [
            "\n",
            "Обновленные названия столбцов:\n",
            "['transaction_id', 'customer_id', 'category', 'item', 'price_per_unit', 'quantity', 'total_spent', 'payment_method', 'location', 'transaction_date', 'discount_applied']\n",
            "\n",
            "Обновленная схема DataFrame:\n",
            "root\n",
            " |-- transaction_id: string (nullable = true)\n",
            " |-- customer_id: string (nullable = true)\n",
            " |-- category: string (nullable = true)\n",
            " |-- item: string (nullable = true)\n",
            " |-- price_per_unit: double (nullable = true)\n",
            " |-- quantity: integer (nullable = true)\n",
            " |-- total_spent: double (nullable = true)\n",
            " |-- payment_method: string (nullable = true)\n",
            " |-- location: string (nullable = true)\n",
            " |-- transaction_date: date (nullable = true)\n",
            " |-- discount_applied: boolean (nullable = true)\n",
            "\n"
          ]
        }
      ],
      "source": [
        "# Очистка названий столбцов\n",
        "df = df.toDF(*(c.lower().replace(\" \", \"_\") for c in df.columns))\n",
        "\n",
        "print(\"\\nОбновленные названия столбцов:\")\n",
        "print(df.columns)\n",
        "\n",
        "print(\"\\nОбновленная схема DataFrame:\")\n",
        "df.printSchema()"
      ]
    },
    {
      "cell_type": "markdown",
      "metadata": {
        "id": "0K809hbVrfQT"
      },
      "source": [
        "# 2. Очистка и валидация данных\n",
        "2.1. Восстановление отсутствующих item"
      ]
    },
    {
      "cell_type": "code",
      "execution_count": 191,
      "metadata": {
        "colab": {
          "base_uri": "https://localhost:8080/"
        },
        "id": "WGA8Ufic_p4r",
        "outputId": "ee9f8d58-347c-4d42-d354-9a283148e822"
      },
      "outputs": [
        {
          "name": "stdout",
          "output_type": "stream",
          "text": [
            "\n",
            "Вывод 20 строк до совершения восстановления значений:\n",
            "+--------------+-----------+--------------------+------------+--------------+--------+-----------+--------------+--------+----------------+----------------+\n",
            "|transaction_id|customer_id|            category|        item|price_per_unit|quantity|total_spent|payment_method|location|transaction_date|discount_applied|\n",
            "+--------------+-----------+--------------------+------------+--------------+--------+-----------+--------------+--------+----------------+----------------+\n",
            "|   TXN_6867343|    CUST_09|          Patisserie| Item_10_PAT|          18.5|    NULL|      185.0|Digital Wallet|  Online|      2024-04-08|            true|\n",
            "|   TXN_3731986|    CUST_22|       Milk Products|Item_17_MILK|          29.0|    NULL|      261.0|Digital Wallet|  Online|      2023-07-23|            true|\n",
            "|   TXN_9303719|    CUST_02|            Butchers| Item_12_BUT|          21.5|    NULL|       43.0|   Credit Card|  Online|      2022-10-05|           false|\n",
            "|   TXN_9458126|    CUST_06|           Beverages| Item_16_BEV|          27.5|    NULL|      247.5|   Credit Card|  Online|      2022-05-07|            NULL|\n",
            "|   TXN_4575373|    CUST_05|                Food| Item_6_FOOD|          12.5|    NULL|       87.5|Digital Wallet|  Online|      2022-10-02|           false|\n",
            "|   TXN_7482416|    CUST_09|          Patisserie|        NULL|          NULL|    NULL|      200.0|   Credit Card|  Online|      2023-11-30|            NULL|\n",
            "|   TXN_3652209|    CUST_07|                Food| Item_1_FOOD|           5.0|    NULL|       40.0|   Credit Card|In-store|      2023-06-10|            true|\n",
            "|   TXN_1372952|    CUST_21|           Furniture|        NULL|          33.5|    NULL|       NULL|Digital Wallet|In-store|      2024-04-02|            true|\n",
            "|   TXN_9728486|    CUST_23|           Furniture| Item_16_FUR|          27.5|    NULL|       27.5|   Credit Card|In-store|      2023-04-26|           false|\n",
            "|   TXN_2722661|    CUST_25|            Butchers| Item_22_BUT|          36.5|    NULL|      109.5|          Cash|  Online|      2024-03-14|           false|\n",
            "|   TXN_8776416|    CUST_22|            Butchers|  Item_3_BUT|           8.0|    NULL|       72.0|          Cash|In-store|      2024-12-14|            true|\n",
            "|   TXN_5422631|    CUST_09|       Milk Products|        NULL|          NULL|    NULL|       52.0|Digital Wallet|In-store|      2025-01-12|            true|\n",
            "|   TXN_5874772|    CUST_23|                Food| Item_2_FOOD|           6.5|    NULL|       45.5|          Cash|  Online|      2023-09-09|            true|\n",
            "|   TXN_4413070|    CUST_14|          Patisserie| Item_24_PAT|          39.5|    NULL|      237.0|Digital Wallet|In-store|      2022-05-20|           false|\n",
            "|   TXN_2490363|    CUST_09|       Milk Products|Item_16_MILK|          27.5|    NULL|       55.0|Digital Wallet|  Online|      2022-05-22|            NULL|\n",
            "|   TXN_1809665|    CUST_14|           Beverages|        NULL|          24.5|    NULL|       NULL|   Credit Card|In-store|      2022-05-11|            NULL|\n",
            "|   TXN_7563311|    CUST_23|          Patisserie| Item_17_PAT|          29.0|    NULL|      232.0|          Cash|  Online|      2024-11-16|            true|\n",
            "|   TXN_9634894|    CUST_15|       Milk Products|        NULL|          NULL|    NULL|      275.0|Digital Wallet|  Online|      2022-04-17|            NULL|\n",
            "|   TXN_4396807|    CUST_17|Electric househol...| Item_13_EHE|          23.0|    NULL|       23.0|Digital Wallet|In-store|      2022-02-07|           false|\n",
            "|   TXN_4206593|    CUST_01|           Furniture|        NULL|          35.0|    NULL|       NULL|Digital Wallet|  Online|      2025-01-13|           false|\n",
            "+--------------+-----------+--------------------+------------+--------------+--------+-----------+--------------+--------+----------------+----------------+\n",
            "only showing top 20 rows\n",
            "\n",
            "\n",
            "Вывод 20 строк каталога:\n",
            "+--------------------+-----------------+--------------+\n",
            "|            category|item_catalog_item|price_per_unit|\n",
            "+--------------------+-----------------+--------------+\n",
            "|           Beverages|      Item_16_BEV|          27.5|\n",
            "|           Beverages|       Item_7_BEV|          14.0|\n",
            "|Electric househol...|      Item_23_EHE|          38.0|\n",
            "|       Milk Products|     Item_16_MILK|          27.5|\n",
            "|Computers and ele...|       Item_1_CEA|           5.0|\n",
            "|           Beverages|      Item_25_BEV|          41.0|\n",
            "|                Food|     Item_12_FOOD|          21.5|\n",
            "|           Furniture|       Item_4_FUR|           9.5|\n",
            "|           Beverages|      Item_17_BEV|          29.0|\n",
            "|Computers and ele...|       Item_9_CEA|          17.0|\n",
            "|           Beverages|      Item_18_BEV|          30.5|\n",
            "|                Food|     Item_11_FOOD|          20.0|\n",
            "|Computers and ele...|       Item_6_CEA|          12.5|\n",
            "|Computers and ele...|       Item_8_CEA|          15.5|\n",
            "|Electric househol...|       Item_6_EHE|          12.5|\n",
            "|Electric househol...|      Item_15_EHE|          26.0|\n",
            "|           Beverages|      Item_11_BEV|          20.0|\n",
            "|          Patisserie|       Item_9_PAT|          17.0|\n",
            "|           Furniture|      Item_16_FUR|          27.5|\n",
            "|Electric househol...|       Item_4_EHE|           9.5|\n",
            "+--------------------+-----------------+--------------+\n",
            "only showing top 20 rows\n",
            "\n"
          ]
        }
      ],
      "source": [
        "# Вывод 20 строк до совершения восстановления значений\n",
        "print(\"\\nВывод 20 строк до совершения восстановления значений:\")\n",
        "df.show(20)\n",
        "\n",
        "# Количество NULL в столбце item до восстановления\n",
        "null_count_item_before = df.filter(F.col(\"item\").isNull()).count()\n",
        "\n",
        "# Создаем справочник товаров (item_catalog)\n",
        "item_catalog = df.filter(F.col(\"item\").isNotNull() & (F.col(\"item\") != \"\"))\\\n",
        "                  .select(\"category\", \"item\", \"price_per_unit\")\\\n",
        "                  .distinct()\n",
        "\n",
        "# Переименовываем столбец item в item_catalog\n",
        "item_catalog = item_catalog.withColumnRenamed(\"item\", \"item_catalog_item\")\n",
        "\n",
        "print(\"\\nВывод 20 строк каталога:\")\n",
        "item_catalog.show()\n",
        "\n"
      ]
    },
    {
      "cell_type": "code",
      "execution_count": 192,
      "metadata": {
        "colab": {
          "base_uri": "https://localhost:8080/"
        },
        "id": "xQVBL-dSaPnn",
        "outputId": "41fb29a5-8ee6-4ca7-8fde-07f52db54a5f"
      },
      "outputs": [
        {
          "name": "stdout",
          "output_type": "stream",
          "text": [
            "\n",
            "Вывод 20 строк после факта восстановленния некоторых значений :\n",
            "+--------------+-----------+--------------------+------------+--------------+--------+-----------+--------------+--------+----------------+----------------+\n",
            "|transaction_id|customer_id|            category|        item|price_per_unit|quantity|total_spent|payment_method|location|transaction_date|discount_applied|\n",
            "+--------------+-----------+--------------------+------------+--------------+--------+-----------+--------------+--------+----------------+----------------+\n",
            "|   TXN_6867343|    CUST_09|          Patisserie| Item_10_PAT|          18.5|    NULL|      185.0|Digital Wallet|  Online|      2024-04-08|            true|\n",
            "|   TXN_3731986|    CUST_22|       Milk Products|Item_17_MILK|          29.0|    NULL|      261.0|Digital Wallet|  Online|      2023-07-23|            true|\n",
            "|   TXN_9303719|    CUST_02|            Butchers| Item_12_BUT|          21.5|    NULL|       43.0|   Credit Card|  Online|      2022-10-05|           false|\n",
            "|   TXN_9458126|    CUST_06|           Beverages| Item_16_BEV|          27.5|    NULL|      247.5|   Credit Card|  Online|      2022-05-07|            NULL|\n",
            "|   TXN_4575373|    CUST_05|                Food| Item_6_FOOD|          12.5|    NULL|       87.5|Digital Wallet|  Online|      2022-10-02|           false|\n",
            "|   TXN_7482416|    CUST_09|          Patisserie|        NULL|          NULL|    NULL|      200.0|   Credit Card|  Online|      2023-11-30|            NULL|\n",
            "|   TXN_3652209|    CUST_07|                Food| Item_1_FOOD|           5.0|    NULL|       40.0|   Credit Card|In-store|      2023-06-10|            true|\n",
            "|   TXN_1372952|    CUST_21|           Furniture| Item_20_FUR|          33.5|    NULL|       NULL|Digital Wallet|In-store|      2024-04-02|            true|\n",
            "|   TXN_9728486|    CUST_23|           Furniture| Item_16_FUR|          27.5|    NULL|       27.5|   Credit Card|In-store|      2023-04-26|           false|\n",
            "|   TXN_2722661|    CUST_25|            Butchers| Item_22_BUT|          36.5|    NULL|      109.5|          Cash|  Online|      2024-03-14|           false|\n",
            "|   TXN_8776416|    CUST_22|            Butchers|  Item_3_BUT|           8.0|    NULL|       72.0|          Cash|In-store|      2024-12-14|            true|\n",
            "|   TXN_5422631|    CUST_09|       Milk Products|        NULL|          NULL|    NULL|       52.0|Digital Wallet|In-store|      2025-01-12|            true|\n",
            "|   TXN_5874772|    CUST_23|                Food| Item_2_FOOD|           6.5|    NULL|       45.5|          Cash|  Online|      2023-09-09|            true|\n",
            "|   TXN_4413070|    CUST_14|          Patisserie| Item_24_PAT|          39.5|    NULL|      237.0|Digital Wallet|In-store|      2022-05-20|           false|\n",
            "|   TXN_2490363|    CUST_09|       Milk Products|Item_16_MILK|          27.5|    NULL|       55.0|Digital Wallet|  Online|      2022-05-22|            NULL|\n",
            "|   TXN_1809665|    CUST_14|           Beverages| Item_14_BEV|          24.5|    NULL|       NULL|   Credit Card|In-store|      2022-05-11|            NULL|\n",
            "|   TXN_7563311|    CUST_23|          Patisserie| Item_17_PAT|          29.0|    NULL|      232.0|          Cash|  Online|      2024-11-16|            true|\n",
            "|   TXN_9634894|    CUST_15|       Milk Products|        NULL|          NULL|    NULL|      275.0|Digital Wallet|  Online|      2022-04-17|            NULL|\n",
            "|   TXN_4396807|    CUST_17|Electric househol...| Item_13_EHE|          23.0|    NULL|       23.0|Digital Wallet|In-store|      2022-02-07|           false|\n",
            "|   TXN_4206593|    CUST_01|           Furniture| Item_21_FUR|          35.0|    NULL|       NULL|Digital Wallet|  Online|      2025-01-13|           false|\n",
            "+--------------+-----------+--------------------+------------+--------------+--------+-----------+--------------+--------+----------------+----------------+\n",
            "only showing top 20 rows\n",
            "\n",
            "\n",
            "Количество NULL в столбце item до восстановления: 1213\n",
            "\n",
            "Количество NULL в столбце item после восстановления: 609\n",
            "\n",
            "Количество NULL в столбце price_per_unit после восстановления: 609\n"
          ]
        }
      ],
      "source": [
        "# Восстанавливаем отсутствующие item путем соединения с item_catalog\n",
        "df_joined = df.join(item_catalog, on=[\"category\", \"price_per_unit\"], how=\"left\")\n",
        "\n",
        "# Явно выбираем столбцы, используя coalesce для item\n",
        "df = df_joined.select(\n",
        "    df_joined[\"transaction_id\"],\n",
        "    df_joined[\"customer_id\"],\n",
        "    df_joined[\"category\"],\n",
        "    F.coalesce(df_joined[\"item\"], df_joined[\"item_catalog_item\"]).alias(\"item\"),\n",
        "    df_joined[\"price_per_unit\"],\n",
        "    df_joined[\"quantity\"],\n",
        "    df_joined[\"total_spent\"],\n",
        "    df_joined[\"payment_method\"],\n",
        "    df_joined[\"location\"],\n",
        "    df_joined[\"transaction_date\"],\n",
        "    df_joined[\"discount_applied\"]\n",
        ")\n",
        "\n",
        "# Выводим 20 строк после факта восстановленния некоторых значений\n",
        "print(\"\\nВывод 20 строк после факта восстановленния некоторых значений :\")\n",
        "df.show(20)\n",
        "\n",
        "# Дополнительная проверка - сколько было NULL и сколько осталось в item после восстановления\n",
        "print(f\"\\nКоличество NULL в столбце item до восстановления: {null_count_item_before}\")\n",
        "\n",
        "null_count_item_after = df.filter(F.col(\"item\").isNull()).count()\n",
        "print(f\"\\nКоличество NULL в столбце item после восстановления: {null_count_item_after}\")\n",
        "\n",
        "null_count_price = df.filter(F.col(\"price_per_unit\").isNull()).count()\n",
        "print(f\"\\nКоличество NULL в столбце price_per_unit после восстановления: {null_count_price}\")"
      ]
    },
    {
      "cell_type": "markdown",
      "metadata": {
        "id": "r6-fWzqUuIfm"
      },
      "source": [
        "Поскольку по условию в столбце \"category\" не может быть значений NULL и количество NULL в столбце \"price_per_unit\" равно количеству не восстановленных значений \"item\", можем сделать вывод, что не восстановились те значения, которые имеют NULL в \"price_per_unit\""
      ]
    },
    {
      "cell_type": "markdown",
      "metadata": {
        "id": "9qNOE6ufrVh1"
      },
      "source": [
        "2.2. Восстановление total_spent (если отсутствует)"
      ]
    },
    {
      "cell_type": "code",
      "execution_count": 193,
      "metadata": {
        "colab": {
          "base_uri": "https://localhost:8080/"
        },
        "id": "aPaFJpAfgWX6",
        "outputId": "bc8130c1-365a-4c4b-f51d-3fe66e5f00d5"
      },
      "outputs": [
        {
          "name": "stdout",
          "output_type": "stream",
          "text": [
            "\n",
            "Количество NULL в столбце total_spent до восстановления: 604\n",
            "\n",
            "Количество NULL в столбце total_spent после восстановления: 604\n"
          ]
        }
      ],
      "source": [
        "# Считаем количество значений Null в столбце total_spent до восстановления\n",
        "null_count_total_spent__before = df.filter(F.col(\"total_spent\").isNull()).count()\n",
        "print(f\"\\nКоличество NULL в столбце total_spent до восстановления: {null_count_total_spent__before}\")\n",
        "\n",
        "# Восстановление total_spent:\n",
        "df = df.withColumn(\"total_spent\", F.coalesce(F.col(\"total_spent\"), F.col(\"quantity\") * F.col(\"price_per_unit\")))\n",
        "\n",
        "# Считаем количество значений Null в столбце total_spent после восстановления\n",
        "null_count_total_spent_after = df.filter(F.col(\"total_spent\").isNull()).count()\n",
        "print(f\"\\nКоличество NULL в столбце total_spent после восстановления: {null_count_total_spent_after}\")"
      ]
    },
    {
      "cell_type": "code",
      "execution_count": 194,
      "metadata": {
        "colab": {
          "base_uri": "https://localhost:8080/"
        },
        "id": "vOmR4ZugqRAt",
        "outputId": "7efd03fb-b7f6-4fcb-de71-62ba0bb14b27"
      },
      "outputs": [
        {
          "name": "stdout",
          "output_type": "stream",
          "text": [
            "\n",
            "Количество не Null значений для замены отсутствующих в столбце price_per_unit: 0\n"
          ]
        }
      ],
      "source": [
        "# Так как ни одно значение total_spent, как мы видим не восстановилось, посчитаем были ли вообще не нулевые значения которыми можно было заменить\n",
        "quantity_price_per_unit_isnotnull=df.filter((F.col(\"quantity\") * F.col(\"price_per_unit\")).isNotNull()).count()\n",
        "print(f\"\\nКоличество не Null значений для замены отсутствующих в столбце price_per_unit: {quantity_price_per_unit_isnotnull}\")"
      ]
    },
    {
      "cell_type": "markdown",
      "metadata": {
        "id": "aOXK1-tHs-9w"
      },
      "source": [
        "2.3. Заполнение отсутствующих quantity и price_per_unit"
      ]
    },
    {
      "cell_type": "code",
      "execution_count": 195,
      "metadata": {
        "id": "LQtB2DrwtxYi"
      },
      "outputs": [],
      "source": [
        "# Подсчет количества Null значений до замены отсутствующих в столбце quantity и price_per_unit\n",
        "quantity_isnull_before=df.filter(F.col(\"quantity\").isNull()).count()\n",
        "price_per_unit_before=df.filter(F.col(\"price_per_unit\").isNull()).count()"
      ]
    },
    {
      "cell_type": "code",
      "execution_count": 196,
      "metadata": {
        "colab": {
          "base_uri": "https://localhost:8080/"
        },
        "id": "ofSsYz1qtBN7",
        "outputId": "357fa60b-a418-4a1e-f269-3c1a4de350f0"
      },
      "outputs": [
        {
          "name": "stdout",
          "output_type": "stream",
          "text": [
            "\n",
            "Количество замен в столбце quantity: 11362\n",
            "\n",
            "Количество замен в столбце price_per_unit: 0\n"
          ]
        }
      ],
      "source": [
        "# Заполнение quantity и price_per_unit (если отсутствуют)\n",
        "df = df.withColumn(\"quantity\", F.coalesce(F.col(\"quantity\"), F.round(F.col(\"total_spent\") / F.col(\"price_per_unit\")).cast(\"integer\")))\n",
        "df = df.withColumn(\"price_per_unit\", F.coalesce(F.col(\"price_per_unit\"), F.round(F.col(\"total_spent\") / F.col(\"quantity\"), 2)))\n",
        "\n",
        "# Подсчет количества Null значений в столбце quantity и price_per_unit после замены\n",
        "quantity_isnull_after=df.filter(F.col(\"quantity\").isNull()).count()\n",
        "price_per_unit_after=df.filter(F.col(\"price_per_unit\").isNull()).count()\n",
        "\n",
        "# Количество замен в столбце quantity и price_per_unit\n",
        "quantity_change = quantity_isnull_before - quantity_isnull_after\n",
        "price_per_unit_change = price_per_unit_before - price_per_unit_after\n",
        "\n",
        "# Вывод количества замен Null значений quantity и price_per_unit на экран\n",
        "print(f\"\\nКоличество замен в столбце quantity: {quantity_change}\")\n",
        "print(f\"\\nКоличество замен в столбце price_per_unit: {price_per_unit_change}\")"
      ]
    },
    {
      "cell_type": "markdown",
      "metadata": {
        "id": "r_jV9Sf9Bu4S"
      },
      "source": [
        "2.4. Удаление оставшихся строк с пропусками в category, quantity ,total_spent и price_per_unit"
      ]
    },
    {
      "cell_type": "code",
      "execution_count": 197,
      "metadata": {
        "colab": {
          "base_uri": "https://localhost:8080/"
        },
        "id": "GgENwN2I-ecr",
        "outputId": "1240a24d-93f7-49ef-a6de-5ff64a69a9e3"
      },
      "outputs": [
        {
          "name": "stdout",
          "output_type": "stream",
          "text": [
            "Количество строк до удаления пропусков: 12575\n",
            "Количество строк после удаления пропусков: 11362\n",
            "+--------------+-----------+-------------+------------+--------------+--------+-----------+--------------+--------+----------------+----------------+\n",
            "|transaction_id|customer_id|     category|        item|price_per_unit|quantity|total_spent|payment_method|location|transaction_date|discount_applied|\n",
            "+--------------+-----------+-------------+------------+--------------+--------+-----------+--------------+--------+----------------+----------------+\n",
            "|   TXN_6867343|    CUST_09|   Patisserie| Item_10_PAT|          18.5|      10|      185.0|Digital Wallet|  Online|      2024-04-08|            true|\n",
            "|   TXN_3731986|    CUST_22|Milk Products|Item_17_MILK|          29.0|       9|      261.0|Digital Wallet|  Online|      2023-07-23|            true|\n",
            "|   TXN_9303719|    CUST_02|     Butchers| Item_12_BUT|          21.5|       2|       43.0|   Credit Card|  Online|      2022-10-05|           false|\n",
            "|   TXN_9458126|    CUST_06|    Beverages| Item_16_BEV|          27.5|       9|      247.5|   Credit Card|  Online|      2022-05-07|            NULL|\n",
            "|   TXN_4575373|    CUST_05|         Food| Item_6_FOOD|          12.5|       7|       87.5|Digital Wallet|  Online|      2022-10-02|           false|\n",
            "+--------------+-----------+-------------+------------+--------------+--------+-----------+--------------+--------+----------------+----------------+\n",
            "only showing top 5 rows\n",
            "\n",
            "Количество NULL значений в столбце category: 0\n",
            "Количество NULL значений в столбце quantity: 0\n",
            "Количество NULL значений в столбце total_spent: 0\n",
            "Количество NULL значений в столбце price_per_unit: 0\n"
          ]
        }
      ],
      "source": [
        "# Подсчитаем общее количество строк до удаления строк с пропусками\n",
        "df_dropna_befor  = df.count()\n",
        "\n",
        "# Составим список столбцов для проверки наличия значений Null\n",
        "columns_to_check = [\"category\", \"quantity\", \"total_spent\", \"price_per_unit\"]\n",
        "\n",
        "# Удаляем строки, где есть NULL хотя бы в одном из указанных столбцов\n",
        "df = df.dropna(subset=columns_to_check)\n",
        "\n",
        "# Подсчитаем общее количество строк после удаления строк с пропусками\n",
        "df_dropna_after  = df.count()\n",
        "\n",
        "# Выводим количество строк до и после удаления (для проверки)\n",
        "print(f\"Количество строк до удаления пропусков: {df_dropna_befor}\")\n",
        "print(f\"Количество строк после удаления пропусков: {df_dropna_after}\")\n",
        "\n",
        "# Отображаем первые несколько строк (для проверки)\n",
        "df.show(5)\n",
        "\n",
        "# Проверим остались ли в этих столбцах пропущенные значения\n",
        "for column in columns_to_check:\n",
        "  null_count = df.filter(F.col(column).isNull()).count()\n",
        "  print(f\"Количество NULL значений в столбце {column}: {null_count}\")"
      ]
    },
    {
      "cell_type": "markdown",
      "metadata": {
        "id": "Fe-Ty8x1FSEu"
      },
      "source": [
        "# 3. Разведочный анализ данных\n",
        "3.1. Самые популярные категории товаров"
      ]
    },
    {
      "cell_type": "code",
      "execution_count": 198,
      "metadata": {
        "colab": {
          "base_uri": "https://localhost:8080/"
        },
        "id": "X65CgjTqFLkx",
        "outputId": "ec41c208-40c3-41e6-dcfc-c23b587c93a2"
      },
      "outputs": [
        {
          "name": "stdout",
          "output_type": "stream",
          "text": [
            "Топ-5 категорий по общему количеству проданных единиц - Category Sales:\n",
            "+--------------------+--------------+\n",
            "|            category|total_quantity|\n",
            "+--------------------+--------------+\n",
            "|           Furniture|          8083|\n",
            "|           Beverages|          7974|\n",
            "|                Food|          7925|\n",
            "|Electric househol...|          7897|\n",
            "|       Milk Products|          7889|\n",
            "+--------------------+--------------+\n",
            "only showing top 5 rows\n",
            "\n"
          ]
        }
      ],
      "source": [
        "# Общее количество проданных единиц товара для каждой категории.\n",
        "category_sales = df.groupBy(\"category\").agg(F.sum(\"quantity\").alias(\"total_quantity\")).orderBy(F.desc(\"total_quantity\"))\n",
        "print(\"Топ-5 категорий по общему количеству проданных единиц - Category Sales:\")\n",
        "category_sales.show(5)"
      ]
    },
    {
      "cell_type": "markdown",
      "metadata": {
        "id": "GxzoROPXHEhe"
      },
      "source": [
        "3.2. Анализ среднего чека"
      ]
    },
    {
      "cell_type": "code",
      "execution_count": 199,
      "metadata": {
        "colab": {
          "base_uri": "https://localhost:8080/"
        },
        "id": "pXheeqv-HXHL",
        "outputId": "d8ef8d36-9d3e-46c7-ca9b-e1d3ebb95c32"
      },
      "outputs": [
        {
          "name": "stdout",
          "output_type": "stream",
          "text": [
            "Среднее значение для каждого метода оплаты - Payment Method Average:\n",
            "+--------------+---------------------------------------+\n",
            "|payment_method|round(avg(total_spent) AS avg_spent, 2)|\n",
            "+--------------+---------------------------------------+\n",
            "|   Credit Card|                                 129.03|\n",
            "|Digital Wallet|                                 128.68|\n",
            "|          Cash|                                 131.14|\n",
            "+--------------+---------------------------------------+\n",
            "\n"
          ]
        }
      ],
      "source": [
        "# Среднее значение Total Spent для каждого метода оплаты\n",
        "payment_method_avg = df.groupBy(\"payment_method\").agg(F.round(F.avg(\"total_spent\").alias(\"avg_spent\"), 2))\n",
        "print(\"Среднее значение для каждого метода оплаты - Payment Method Average:\")\n",
        "payment_method_avg.show()"
      ]
    },
    {
      "cell_type": "code",
      "execution_count": 200,
      "metadata": {
        "colab": {
          "base_uri": "https://localhost:8080/"
        },
        "id": "QAUAKzROJe_M",
        "outputId": "3cfef5e0-7b44-470e-fa12-b593845fc6f7"
      },
      "outputs": [
        {
          "name": "stdout",
          "output_type": "stream",
          "text": [
            "Cреднее значение Total Spent для каждого места где прошла оплата - Location Average:\n",
            "+--------+---------------------------------------+\n",
            "|location|round(avg(total_spent) AS avg_spent, 2)|\n",
            "+--------+---------------------------------------+\n",
            "|In-store|                                 128.82|\n",
            "|  Online|                                 130.45|\n",
            "+--------+---------------------------------------+\n",
            "\n"
          ]
        }
      ],
      "source": [
        "# Cреднее значение Total Spent для каждого места где прошла оплата\n",
        "location_avg = df.groupBy(\"location\").agg(F.round(F.avg(\"total_spent\").alias(\"avg_spent\"), 2))\n",
        "print(\"Cреднее значение Total Spent для каждого места где прошла оплата - Location Average:\")\n",
        "location_avg.show()"
      ]
    },
    {
      "cell_type": "markdown",
      "metadata": {
        "id": "wmxO-y8nKESF"
      },
      "source": [
        "# 4. Генерация признаков\n",
        "4.1. Временные признаки"
      ]
    },
    {
      "cell_type": "code",
      "execution_count": 201,
      "metadata": {
        "colab": {
          "base_uri": "https://localhost:8080/"
        },
        "id": "QUvXnTtnKSEH",
        "outputId": "29f5d66e-fc21-4b91-fe1e-c6f4bc23cb3f"
      },
      "outputs": [
        {
          "name": "stdout",
          "output_type": "stream",
          "text": [
            "Добавление новых столбцов по временным признакам - day_of_week and transaction_month:\n",
            "+--------------+-----------+-------------+------------+--------------+--------+-----------+--------------+--------+----------------+----------------+-----------+-----------------+\n",
            "|transaction_id|customer_id|     category|        item|price_per_unit|quantity|total_spent|payment_method|location|transaction_date|discount_applied|day_of_week|transaction_month|\n",
            "+--------------+-----------+-------------+------------+--------------+--------+-----------+--------------+--------+----------------+----------------+-----------+-----------------+\n",
            "|   TXN_6867343|    CUST_09|   Patisserie| Item_10_PAT|          18.5|      10|      185.0|Digital Wallet|  Online|      2024-04-08|            true|          2|                4|\n",
            "|   TXN_3731986|    CUST_22|Milk Products|Item_17_MILK|          29.0|       9|      261.0|Digital Wallet|  Online|      2023-07-23|            true|          1|                7|\n",
            "|   TXN_9303719|    CUST_02|     Butchers| Item_12_BUT|          21.5|       2|       43.0|   Credit Card|  Online|      2022-10-05|           false|          4|               10|\n",
            "|   TXN_9458126|    CUST_06|    Beverages| Item_16_BEV|          27.5|       9|      247.5|   Credit Card|  Online|      2022-05-07|            NULL|          7|                5|\n",
            "|   TXN_4575373|    CUST_05|         Food| Item_6_FOOD|          12.5|       7|       87.5|Digital Wallet|  Online|      2022-10-02|           false|          1|               10|\n",
            "+--------------+-----------+-------------+------------+--------------+--------+-----------+--------------+--------+----------------+----------------+-----------+-----------------+\n",
            "only showing top 5 rows\n",
            "\n"
          ]
        }
      ],
      "source": [
        "# Добавим два новых столбца day_of_week и transaction_month\n",
        "df = df.withColumn(\"day_of_week\", F.dayofweek(F.col(\"transaction_date\")))\n",
        "df = df.withColumn(\"transaction_month\", F.month(F.col(\"transaction_date\")))\n",
        "print(\"Добавление новых столбцов по временным признакам - day_of_week and transaction_month:\")\n",
        "df.show(5)"
      ]
    },
    {
      "cell_type": "markdown",
      "metadata": {
        "id": "FTyKGt-rLUH9"
      },
      "source": [
        "4.2. Продажи по дням недели"
      ]
    },
    {
      "cell_type": "code",
      "execution_count": 202,
      "metadata": {
        "colab": {
          "base_uri": "https://localhost:8080/"
        },
        "id": "xqCUtFi-LVIT",
        "outputId": "95b37389-3a6e-4467-c13c-2fed4f1b7068"
      },
      "outputs": [
        {
          "name": "stdout",
          "output_type": "stream",
          "text": [
            "Средняя сумма продаж для каждого дня недели - Daily Sales:\n",
            "+-----------+------------------+\n",
            "|day_of_week|         avg_spent|\n",
            "+-----------+------------------+\n",
            "|          1| 130.3134510042605|\n",
            "|          2|126.08145363408521|\n",
            "|          3|129.02869619463505|\n",
            "|          4|126.62033067973056|\n",
            "|          5| 129.6309894212819|\n",
            "|          6|134.51823708206686|\n",
            "|          7|131.17064220183485|\n",
            "+-----------+------------------+\n",
            "\n"
          ]
        }
      ],
      "source": [
        "# Рассчитаем среднюю сумму продаж (total_spent) для каждого дня недели\n",
        "daily_sales = df.groupBy(\"day_of_week\").agg(F.avg(\"total_spent\").alias(\"avg_spent\")).orderBy(\"day_of_week\")\n",
        "print(\"Средняя сумма продаж для каждого дня недели - Daily Sales:\")\n",
        "daily_sales.show()"
      ]
    },
    {
      "cell_type": "markdown",
      "metadata": {
        "id": "5WCzZ58wM2pM"
      },
      "source": [
        "4.3. Продажи по месяцам"
      ]
    },
    {
      "cell_type": "code",
      "execution_count": 203,
      "metadata": {
        "colab": {
          "base_uri": "https://localhost:8080/"
        },
        "id": "PbT1OMExM4Hm",
        "outputId": "09e36cbf-3018-47bc-cae4-b3cbaa9e4a5b"
      },
      "outputs": [
        {
          "name": "stdout",
          "output_type": "stream",
          "text": [
            "Средняя сумма продаж для каждого месяца - Monthly Sales:\n",
            "+-----------------+------------------+\n",
            "|transaction_month|         avg_spent|\n",
            "+-----------------+------------------+\n",
            "|                1| 135.1926530612245|\n",
            "|                2| 129.7631880733945|\n",
            "|                3|126.93729372937294|\n",
            "|                4|132.00166481687015|\n",
            "|                5| 127.4728144989339|\n",
            "|                6|  131.323093220339|\n",
            "|                7|127.64733059548254|\n",
            "|                8|122.76838235294117|\n",
            "|                9| 130.6153846153846|\n",
            "|               10|128.05379388448472|\n",
            "|               11|130.04082774049218|\n",
            "|               12|132.32119914346896|\n",
            "+-----------------+------------------+\n",
            "\n"
          ]
        }
      ],
      "source": [
        "# Рассчет средней суммы продаж (total_spent)  для каждого месяца\n",
        "monthly_sales = df.groupBy(\"transaction_month\").agg(F.avg(\"total_spent\").alias(\"avg_spent\")).orderBy(\"transaction_month\")\n",
        "print(\"Средняя сумма продаж для каждого месяца - Monthly Sales:\")\n",
        "monthly_sales.show()"
      ]
    },
    {
      "cell_type": "markdown",
      "metadata": {
        "id": "JWHTOIzyOree"
      },
      "source": [
        "4.4. Признаки клиента"
      ]
    },
    {
      "cell_type": "code",
      "execution_count": 204,
      "metadata": {
        "colab": {
          "base_uri": "https://localhost:8080/"
        },
        "id": "999ky6DLOube",
        "outputId": "9ed5be19-8e0b-48be-b5db-c399f3cc5dbc"
      },
      "outputs": [
        {
          "name": "stdout",
          "output_type": "stream",
          "text": [
            "Топ-10 клиентов по их CLV - Customer Lifetime Value:\n",
            "+-----------+-------+\n",
            "|customer_id|    clv|\n",
            "+-----------+-------+\n",
            "|    CUST_24|64608.0|\n",
            "|    CUST_05|63855.5|\n",
            "|    CUST_16|63185.5|\n",
            "|    CUST_13|63015.5|\n",
            "|    CUST_08|62850.5|\n",
            "|    CUST_15|60749.5|\n",
            "|    CUST_10|60367.5|\n",
            "|    CUST_23|59738.5|\n",
            "|    CUST_21|59639.0|\n",
            "|    CUST_02|59512.5|\n",
            "+-----------+-------+\n",
            "only showing top 10 rows\n",
            "\n"
          ]
        }
      ],
      "source": [
        "# Рассчитем customer_lifetime_value (CLV) для каждого клиента как общую сумму (total_spent), потраченную этим клиентом за все транзакции.\n",
        "customer_clv = df.groupBy(\"customer_id\").agg(F.sum(\"total_spent\").alias(\"clv\")).orderBy(F.desc(\"clv\"))\n",
        "print(\"Топ-10 клиентов по их CLV - Customer Lifetime Value:\")\n",
        "customer_clv.show(10)"
      ]
    },
    {
      "cell_type": "code",
      "execution_count": 205,
      "metadata": {
        "id": "DGyjKxpTQIht"
      },
      "outputs": [],
      "source": [
        "# Останавливаем SparkSession\n",
        "spark.stop()"
      ]
    }
  ],
  "metadata": {
    "colab": {
      "provenance": []
    },
    "kernelspec": {
      "display_name": "Python 3",
      "name": "python3"
    }
  },
  "nbformat": 4,
  "nbformat_minor": 0
}
